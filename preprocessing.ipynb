{
 "cells": [
  {
   "cell_type": "code",
   "execution_count": 52,
   "metadata": {},
   "outputs": [],
   "source": [
    "import pandas as pd\n",
    "import numpy as np\n",
    "\n",
    "# Load the datasets\n",
    "rpe = pd.read_csv(\"rpe.csv\")\n",
    "wellness = pd.read_csv(\"wellness.csv\")\n",
    "\n",
    "# Ensure date formats match\n",
    "rpe[\"Date\"] = pd.to_datetime(rpe[\"Date\"])\n",
    "wellness[\"Date\"] = pd.to_datetime(wellness[\"Date\"])\n",
    "\n",
    "# Merge on Date and PlayerID\n",
    "merged = pd.merge(rpe, wellness, on=[\"Date\", \"PlayerID\"], how=\"inner\")"
   ]
  },
  {
   "cell_type": "code",
   "execution_count": 53,
   "metadata": {},
   "outputs": [],
   "source": [
    "# Remove unnecessary columns\n",
    "columns_to_remove = [\n",
    "    \"SessionLoad\", \"DailyLoad\", \"AcuteLoad\", \"ChronicLoad\", \"AcuteChronicRatio\", \"BedTime\", \"WakeTime\", \n",
    "    \"MonitoringScore\", \"NutritionAdjustment\"\n",
    "]\n",
    "merged = merged.drop(columns=columns_to_remove)"
   ]
  },
  {
   "cell_type": "code",
   "execution_count": 54,
   "metadata": {},
   "outputs": [
    {
     "name": "stdout",
     "output_type": "stream",
     "text": [
      "Number of rows with SessionType 'Game': 449\n",
      "Number of rows with USG: 1062\n",
      "Number of rows with USG: 375\n"
     ]
    }
   ],
   "source": [
    "game_count = merged[merged[\"SessionType\"] == \"Game\"].shape[0]\n",
    "print(f\"Number of rows with SessionType 'Game': {game_count}\")\n",
    "\n",
    "usg_count = merged[merged[\"USGMeasurement\"] == \"Yes\"].shape[0]\n",
    "print(f\"Number of rows with USG: {usg_count}\")\n",
    "\n",
    "usg_count = merged[(merged[\"USGMeasurement\"] == \"Yes\") & (merged[\"SessionType\"] == \"Game\")].shape[0]\n",
    "print(f\"Number of rows with USG: {usg_count}\")"
   ]
  },
  {
   "cell_type": "code",
   "execution_count": 55,
   "metadata": {},
   "outputs": [],
   "source": [
    "# Process rows\n",
    "# - Filter out rows where SessionType is \"Mobility/Recovery\" or USGMeasurement is \"No\"\n",
    "merged = merged[\n",
    "    ~(\n",
    "        (merged[\"SessionType\"] != \"Game\") |\n",
    "        (merged[\"USGMeasurement\"] == \"No\")\n",
    "    )\n",
    "]"
   ]
  },
  {
   "cell_type": "code",
   "execution_count": 56,
   "metadata": {},
   "outputs": [
    {
     "name": "stderr",
     "output_type": "stream",
     "text": [
      "C:\\Users\\Andrew\\AppData\\Local\\Temp\\ipykernel_13372\\2861245303.py:16: FutureWarning: A value is trying to be set on a copy of a DataFrame or Series through chained assignment using an inplace method.\n",
      "The behavior will change in pandas 3.0. This inplace method will never work because the intermediate object on which we are setting values always behaves as a copy.\n",
      "\n",
      "For example, when doing 'df[col].method(value, inplace=True)', try using 'df.method({col: value}, inplace=True)' or df[col] = df[col].method(value) instead, to perform the operation inplace on the original object.\n",
      "\n",
      "\n",
      "  merged[\"Nutrition\"].replace(-1, np.nan, inplace=True)\n",
      "C:\\Users\\Andrew\\AppData\\Local\\Temp\\ipykernel_13372\\2861245303.py:26: FutureWarning: A value is trying to be set on a copy of a DataFrame or Series through chained assignment using an inplace method.\n",
      "The behavior will change in pandas 3.0. This inplace method will never work because the intermediate object on which we are setting values always behaves as a copy.\n",
      "\n",
      "For example, when doing 'df[col].method(value, inplace=True)', try using 'df.method({col: value}, inplace=True)' or df[col] = df[col].method(value) instead, to perform the operation inplace on the original object.\n",
      "\n",
      "\n",
      "  merged[\"Illness\"].replace(-1, np.nan, inplace=True)  # Replace -1 with NaN for missing values\n"
     ]
    }
   ],
   "source": [
    "# Numerically encode the categorical variables\n",
    "\n",
    "# Convert Date to datetime\n",
    "merged[\"Date\"] = pd.to_datetime(merged[\"Date\"])\n",
    "\n",
    "# Encode binary categorical variables: Yes/No → 1/0\n",
    "binary_map = {\"Yes\": 1, \"No\": 0}\n",
    "merged[\"Training\"] = merged[\"Training\"].map(binary_map)\n",
    "merged[\"Menstruation\"] = merged[\"Menstruation\"].map(binary_map)\n",
    "merged[\"USGMeasurement\"] = merged[\"USGMeasurement\"].map(binary_map)\n",
    "\n",
    "# Encode Nutrition (ordinal category)\n",
    "nutrition_order = [\"Poor\", \"Okay\", \"Good\", \"Excellent\"]\n",
    "merged[\"Nutrition\"] = pd.Categorical(merged[\"Nutrition\"], categories=nutrition_order, ordered=True)\n",
    "merged[\"Nutrition\"] = merged[\"Nutrition\"].cat.codes\n",
    "merged[\"Nutrition\"].replace(-1, np.nan, inplace=True)\n",
    "\n",
    "# Encode Pain (binary categorical variable: Yes/No → 1/0)\n",
    "binary_map = {\"Yes\": 1, \"No\": 0}\n",
    "merged[\"Pain\"] = merged[\"Pain\"].map(binary_map)\n",
    "\n",
    "# Encode Illness (ordinal categorical variable)\n",
    "illness_order = [\"No\", \"Slightly Off\", \"Yes\"]  # Add more categories if applicable\n",
    "merged[\"Illness\"] = pd.Categorical(merged[\"Illness\"], categories=illness_order, ordered=True)\n",
    "merged[\"Illness\"] = merged[\"Illness\"].cat.codes\n",
    "merged[\"Illness\"].replace(-1, np.nan, inplace=True)  # Replace -1 with NaN for missing values\n",
    "\n",
    "# Encode BestOutOfMyself (ordinal category)\n",
    "best_out_map = {\n",
    "    \"Not at all\": 0,\n",
    "    \"Somewhat\": 1,\n",
    "    \"Moderately\": 2,\n",
    "    \"Very much\": 3,\n",
    "    \"Absolutely\": 4\n",
    "}\n",
    "merged[\"BestOutOfMyself\"] = merged[\"BestOutOfMyself\"].map(best_out_map)\n",
    "merged[\"TrainingReadiness\"] = merged[\"TrainingReadiness\"].str.rstrip('%').astype(float) / 100"
   ]
  },
  {
   "cell_type": "code",
   "execution_count": 57,
   "metadata": {},
   "outputs": [],
   "source": [
    "# Save to a new CSV\n",
    "merged.to_csv(\"merged_rpe_wellness.csv\", index=False)"
   ]
  }
 ],
 "metadata": {
  "kernelspec": {
   "display_name": "ci",
   "language": "python",
   "name": "python3"
  },
  "language_info": {
   "codemirror_mode": {
    "name": "ipython",
    "version": 3
   },
   "file_extension": ".py",
   "mimetype": "text/x-python",
   "name": "python",
   "nbconvert_exporter": "python",
   "pygments_lexer": "ipython3",
   "version": "3.12.3"
  }
 },
 "nbformat": 4,
 "nbformat_minor": 2
}
